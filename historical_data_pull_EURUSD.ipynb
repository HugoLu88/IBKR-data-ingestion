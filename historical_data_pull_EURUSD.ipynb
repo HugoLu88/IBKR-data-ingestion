{
 "cells": [
  {
   "cell_type": "markdown",
   "metadata": {},
   "source": [
    "### Goal and description"
   ]
  },
  {
   "cell_type": "code",
   "execution_count": 1,
   "metadata": {},
   "outputs": [],
   "source": [
    "### This script connects to IBKR on a daily basis. If there is no data, then it will catch\n",
    "### the latest data and ingest it to csv. It will add this to the master file"
   ]
  },
  {
   "cell_type": "markdown",
   "metadata": {},
   "source": [
    "### Imports"
   ]
  },
  {
   "cell_type": "code",
   "execution_count": 2,
   "metadata": {},
   "outputs": [],
   "source": [
    "# Catch forex data\n",
    "from IPython.display import display, clear_output\n",
    "import matplotlib.pyplot as plt\n",
    "from ib_insync import *\n",
    "import pandas as pd\n",
    "import logging\n",
    "import os\n",
    "from datetime import date\n",
    "from datetime import datetime as datetime\n",
    "import numpy as np\n"
   ]
  },
  {
   "cell_type": "markdown",
   "metadata": {},
   "source": [
    "### Parameters"
   ]
  },
  {
   "cell_type": "code",
   "execution_count": 3,
   "metadata": {},
   "outputs": [],
   "source": [
    "#Reqhistoricaldata\n",
    "p_endDateTime = ''\n",
    "p_durationStr = '10 Y'\n",
    "p_barSizeSetting='1 day'\n",
    "p_whatToShow='MIDPOINT'\n",
    "p_useRTH= True\n",
    "p_formatDate=1\n",
    "p_keepUpToDate=True\n",
    "p_contract = 'EURUSD'\n",
    "today = str(date.today())\n",
    "convert_string_to_datetime = lambda x: datetime.strptime(x,\"%Y-%m-%d\")\n",
    "\n",
    "directory_empty = False\n",
    "\n",
    "#file_path = p_contract\n",
    "p_file_path =  r\"C:\\Users\\hugo.lu\\repos\\repos_backup\\ib_insync\\Raw data\\\\\" + p_contract + \"\\\\\""
   ]
  },
  {
   "cell_type": "markdown",
   "metadata": {},
   "source": [
    "### Definitions"
   ]
  },
  {
   "cell_type": "code",
   "execution_count": 4,
   "metadata": {},
   "outputs": [],
   "source": [
    "def onBarUpdate(*args):\n",
    "    plt.close()\n",
    "    plot = util.barplot(bars)\n",
    "    clear_output(wait=True)\n",
    "    display(plot)\n",
    "    global df\n",
    "    df = util.df(bars)\n",
    "    # print(df)"
   ]
  },
  {
   "cell_type": "markdown",
   "metadata": {},
   "source": [
    "### See what is available"
   ]
  },
  {
   "cell_type": "code",
   "execution_count": 5,
   "metadata": {},
   "outputs": [
    {
     "name": "stdout",
     "output_type": "stream",
     "text": [
      "Nothing in directory\n"
     ]
    },
    {
     "data": {
      "text/plain": [
       "'C:\\\\Users\\\\hugo.lu\\\\repos\\\\repos_backup\\\\ib_insync\\\\Raw data\\\\\\\\EURUSD\\\\2020-05-05_EURUSD_MIDPOINT_10 Y_1 day.csv'"
      ]
     },
     "execution_count": 5,
     "metadata": {},
     "output_type": "execute_result"
    }
   ],
   "source": [
    "data_list = os.listdir(path=p_file_path)\n",
    "data_sub_list = []\n",
    "### Check what is in the directory\n",
    "if len(data_list) == 0:\n",
    "    print(\"Nothing in directory\")\n",
    "    directory_empty = True\n",
    "else:\n",
    "    for item in data_list:\n",
    "        try:\n",
    "            data_sub_list.append(datetime.strptime(item.split(\"_\")[0],\"%Y-%m-%d\"))\n",
    "        except:\n",
    "            data_sub_list.append(datetime.strptime('1000-01-01',\"%Y-%m-%d\"))\n",
    "### Take latest file            \n",
    "    m = max(data_sub_list)\n",
    "    index_out = [i for i, j in enumerate(data_sub_list) if j == m]\n",
    "\n",
    "    print(\"The index of the latest data is: \" + str(index_out))\n",
    "\n",
    "    data_load_string = data_list[0]\n",
    "    data_in = pd.read_csv(filepath_or_buffer = r'C:\\Users\\hugo.lu\\repos\\repos_backup\\ib_insync\\Raw data\\\\' + p_contract + \"\\\\\" + data_load_string\n",
    "\n",
    "                         ,index_col=0)\n",
    "    ### Convert date column to datetime64\n",
    "    data_in['date'] = data_in['date'].astype(str) \n",
    "    data_in['date']=data_in['date'].apply(convert_string_to_datetime)\n",
    "\n",
    "\n",
    "\n",
    "string_list = [(p_file_path+today),p_contract,p_whatToShow,p_durationStr,(p_barSizeSetting+\".csv\")]\n",
    "end_file_path = '_'.join(string_list)\n",
    "end_file_path"
   ]
  },
  {
   "cell_type": "markdown",
   "metadata": {},
   "source": [
    "### Connect to IBKR"
   ]
  },
  {
   "cell_type": "code",
   "execution_count": 6,
   "metadata": {},
   "outputs": [
    {
     "data": {
      "text/plain": [
       "<IB connected to 127.0.0.1:7497 clientId=999>"
      ]
     },
     "execution_count": 6,
     "metadata": {},
     "output_type": "execute_result"
    }
   ],
   "source": [
    "\n",
    "\n",
    "util.startLoop()\n",
    "ib = IB()\n",
    "# add this line of code to debug \n",
    "#util.logToConsole(logging.DEBUG)\n",
    "ib.connect('127.0.0.1', 7497, clientId=999)"
   ]
  },
  {
   "cell_type": "markdown",
   "metadata": {},
   "source": [
    "### Fetch data"
   ]
  },
  {
   "cell_type": "code",
   "execution_count": 7,
   "metadata": {},
   "outputs": [],
   "source": [
    "contract = Forex(str(p_contract))\n",
    "\n",
    "bars = ib.reqHistoricalData(\n",
    "        contract,\n",
    "        endDateTime= p_endDateTime ,\n",
    "        durationStr=p_durationStr,\n",
    "        barSizeSetting= p_barSizeSetting,\n",
    "        whatToShow=p_whatToShow,\n",
    "        useRTH=p_useRTH,\n",
    "        formatDate=p_formatDate,\n",
    "        keepUpToDate=p_keepUpToDate)\n",
    "# convert to pandas dataframe (one off conversion):\n",
    "#df = util.df(bars)\n",
    "#print(df)"
   ]
  },
  {
   "cell_type": "code",
   "execution_count": 8,
   "metadata": {},
   "outputs": [
    {
     "data": {
      "text/plain": [
       "True"
      ]
     },
     "execution_count": 8,
     "metadata": {},
     "output_type": "execute_result"
    }
   ],
   "source": [
    "bars.updateEvent += onBarUpdate\n",
    "ib.sleep(0.1)"
   ]
  },
  {
   "cell_type": "code",
   "execution_count": 9,
   "metadata": {},
   "outputs": [
    {
     "name": "stderr",
     "output_type": "stream",
     "text": [
      "Error 162, reqId 3: Historical Market Data Service error message:API historical data query cancelled: 3\n"
     ]
    }
   ],
   "source": [
    "\n",
    "ib.cancelHistoricalData(bars)"
   ]
  },
  {
   "cell_type": "code",
   "execution_count": 10,
   "metadata": {},
   "outputs": [],
   "source": [
    "## Specify data out\n",
    "try:\n",
    "    data_out = df.copy(deep  = True)\n",
    "except:\n",
    "    df = util.df(bars)\n",
    "    data_out = df.copy(deep = True)\n",
    "\n",
    "data_out['date'] = data_out['date'].astype(str)\n",
    "data_out['date']=data_out['date'].apply(convert_string_to_datetime)"
   ]
  },
  {
   "cell_type": "markdown",
   "metadata": {},
   "source": [
    "### Save data"
   ]
  },
  {
   "cell_type": "code",
   "execution_count": 12,
   "metadata": {},
   "outputs": [],
   "source": [
    "\n",
    "if len(data_list) == 0:\n",
    "    data_out.to_csv(path_or_buf = end_file_path)\n",
    "else:\n",
    "    data_in_copy = data_in.copy(deep = True)\n",
    "    data_in_max_date = data_in['date'].max()\n",
    "    data_out_min_date = data_out['date'].min()\n",
    "    data_out_max_date = data_out['date'].max()\n",
    "    append_data = data_out[data_out['date'] > data_in_max_date]\n",
    "    if data_out_min_date > data_in_max_date:\n",
    "        print(\"We are missing weeks\")\n",
    "    elif len(append_data) == 0:\n",
    "        print(\"Data is up to date\")\n",
    "        \n",
    "    else:\n",
    "        print(\"Appending data from \" + str(data_in_max_date) + \" to \" + str(data_out_max_date))\n",
    "        data_in_copy = data_in_copy.append(append_data)\n",
    "        data_in_copy.reset_index(drop = True, inplace= True)\n",
    "        print(\"Saving data\")\n",
    "        data_in_copy.to_csv(path_or_buf = end_file_path)"
   ]
  },
  {
   "cell_type": "markdown",
   "metadata": {},
   "source": [
    "## Disconnect"
   ]
  },
  {
   "cell_type": "code",
   "execution_count": 13,
   "metadata": {},
   "outputs": [],
   "source": [
    "ib.disconnect()"
   ]
  },
  {
   "cell_type": "code",
   "execution_count": null,
   "metadata": {},
   "outputs": [],
   "source": []
  }
 ],
 "metadata": {
  "kernelspec": {
   "display_name": "Python 3",
   "language": "python",
   "name": "python3"
  },
  "language_info": {
   "codemirror_mode": {
    "name": "ipython",
    "version": 3
   },
   "file_extension": ".py",
   "mimetype": "text/x-python",
   "name": "python",
   "nbconvert_exporter": "python",
   "pygments_lexer": "ipython3",
   "version": "3.7.3"
  }
 },
 "nbformat": 4,
 "nbformat_minor": 2
}
